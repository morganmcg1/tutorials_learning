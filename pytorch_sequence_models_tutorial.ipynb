{
 "cells": [
  {
   "cell_type": "code",
   "execution_count": null,
   "metadata": {},
   "outputs": [],
   "source": [
    "%matplotlib inline"
   ]
  },
  {
   "cell_type": "markdown",
   "metadata": {},
   "source": [
    "\n",
    "Sequence Models and Long-Short Term Memory Networks\n",
    "===================================================\n",
    "\n",
    "At this point, we have seen various feed-forward networks. That is,\n",
    "there is no state maintained by the network at all. This might not be\n",
    "the behavior we want. Sequence models are central to NLP: they are\n",
    "models where there is some sort of dependence through time between your\n",
    "inputs. The classical example of a sequence model is the Hidden Markov\n",
    "Model for part-of-speech tagging. Another example is the conditional\n",
    "random field.\n",
    "\n",
    "A recurrent neural network is a network that maintains some kind of\n",
    "state. For example, its output could be used as part of the next input,\n",
    "so that information can propogate along as the network passes over the\n",
    "sequence. In the case of an LSTM, for each element in the sequence,\n",
    "there is a corresponding *hidden state* $h_t$, which in principle\n",
    "can contain information from arbitrary points earlier in the sequence.\n",
    "We can use the hidden state to predict words in a language model,\n",
    "part-of-speech tags, and a myriad of other things.\n",
    "\n",
    "\n",
    "LSTM's in Pytorch\n",
    "~~~~~~~~~~~~~~~~~\n",
    "\n",
    "Before getting to the example, note a few things. Pytorch's LSTM expects\n",
    "all of its inputs to be 3D tensors. The semantics of the axes of these\n",
    "tensors is important. The first axis is the sequence itself, the second\n",
    "indexes instances in the mini-batch, and the third indexes elements of\n",
    "the input. We haven't discussed mini-batching, so lets just ignore that\n",
    "and assume we will always have just 1 dimension on the second axis. If\n",
    "we want to run the sequence model over the sentence \"The cow jumped\",\n",
    "our input should look like\n",
    "\n",
    "\\begin{align}\\begin{bmatrix}\n",
    "   \\overbrace{q_\\text{The}}^\\text{row vector} \\\\\n",
    "   q_\\text{cow} \\\\\n",
    "   q_\\text{jumped}\n",
    "   \\end{bmatrix}\\end{align}\n",
    "\n",
    "Except remember there is an additional 2nd dimension with size 1.\n",
    "\n",
    "In addition, you could go through the sequence one at a time, in which\n",
    "case the 1st axis will have size 1 also.\n",
    "\n",
    "Let's see a quick example.\n",
    "\n"
   ]
  },
  {
   "cell_type": "code",
   "execution_count": 1,
   "metadata": {},
   "outputs": [
    {
     "data": {
      "text/plain": [
       "<torch._C.Generator at 0x1285ca4f0>"
      ]
     },
     "execution_count": 1,
     "metadata": {},
     "output_type": "execute_result"
    }
   ],
   "source": [
    "# Author: Robert Guthrie\n",
    "\n",
    "import torch\n",
    "import torch.nn as nn\n",
    "import torch.nn.functional as F\n",
    "import torch.optim as optim\n",
    "\n",
    "torch.manual_seed(1)"
   ]
  },
  {
   "cell_type": "code",
   "execution_count": 77,
   "metadata": {},
   "outputs": [
    {
     "data": {
      "text/plain": [
       "([tensor([[ 2.4088, -0.4895, -1.1209]]),\n",
       "  tensor([[0.0227, 1.6322, 1.4544]]),\n",
       "  tensor([[0.8580, 0.2502, 0.8019]]),\n",
       "  tensor([[-1.9631, -0.6891, -1.8564]]),\n",
       "  tensor([[-0.7074, -0.0188,  0.4403]])],\n",
       " 5,\n",
       " 1,\n",
       " 3)"
      ]
     },
     "execution_count": 77,
     "metadata": {},
     "output_type": "execute_result"
    }
   ],
   "source": [
    "inputs = [torch.randn(1, 3) for _ in range(5)]  # make a sequence of length 5\n",
    "inputs, len(inputs), len(inputs[0]), len(inputs[0][0])"
   ]
  },
  {
   "cell_type": "markdown",
   "metadata": {},
   "source": [
    "input dim = (5,3)"
   ]
  },
  {
   "cell_type": "code",
   "execution_count": 59,
   "metadata": {},
   "outputs": [
    {
     "data": {
      "text/plain": [
       "(tensor([[[-0.8395,  0.1390, -0.0379]]]),\n",
       " tensor([[[-0.0193, -0.7948,  0.9273]]]))"
      ]
     },
     "execution_count": 59,
     "metadata": {},
     "output_type": "execute_result"
    }
   ],
   "source": [
    "# initialize the hidden state.\n",
    "hidden = (torch.randn(1, 1, 3),\n",
    "          torch.randn(1, 1, 3))\n",
    "hidden"
   ]
  },
  {
   "cell_type": "markdown",
   "metadata": {},
   "source": [
    "hidden dim = (2,3)"
   ]
  },
  {
   "cell_type": "markdown",
   "metadata": {},
   "source": [
    "## `.view()`"
   ]
  },
  {
   "cell_type": "code",
   "execution_count": 28,
   "metadata": {},
   "outputs": [
    {
     "data": {
      "text/plain": [
       "tensor([ 1,  2,  3,  4,  5,  6,  7,  8,  9, 10, 11, 12, 13, 14, 15, 16])"
      ]
     },
     "execution_count": 28,
     "metadata": {},
     "output_type": "execute_result"
    }
   ],
   "source": [
    "a = torch.arange(1, 17)  # a's shape is (16,)\n",
    "a"
   ]
  },
  {
   "cell_type": "code",
   "execution_count": 29,
   "metadata": {},
   "outputs": [
    {
     "data": {
      "text/plain": [
       "tensor([[ 1,  2,  3,  4],\n",
       "        [ 5,  6,  7,  8],\n",
       "        [ 9, 10, 11, 12],\n",
       "        [13, 14, 15, 16]])"
      ]
     },
     "execution_count": 29,
     "metadata": {},
     "output_type": "execute_result"
    }
   ],
   "source": [
    "a.view(4, 4) # output below"
   ]
  },
  {
   "cell_type": "code",
   "execution_count": 30,
   "metadata": {},
   "outputs": [
    {
     "data": {
      "text/plain": [
       "tensor([[[ 1,  2,  3,  4],\n",
       "         [ 5,  6,  7,  8]],\n",
       "\n",
       "        [[ 9, 10, 11, 12],\n",
       "         [13, 14, 15, 16]]])"
      ]
     },
     "execution_count": 30,
     "metadata": {},
     "output_type": "execute_result"
    }
   ],
   "source": [
    "a.view(2, 2, 4) # output below"
   ]
  },
  {
   "cell_type": "code",
   "execution_count": 32,
   "metadata": {},
   "outputs": [
    {
     "data": {
      "text/plain": [
       "(tensor([[1, 2, 3, 4],\n",
       "         [5, 6, 7, 8]]), tensor([[ 9, 10, 11, 12],\n",
       "         [13, 14, 15, 16]]))"
      ]
     },
     "execution_count": 32,
     "metadata": {},
     "output_type": "execute_result"
    }
   ],
   "source": [
    "a.view(2, 2, 4)[0], a.view(2, 2, 4)[1]"
   ]
  },
  {
   "cell_type": "code",
   "execution_count": 39,
   "metadata": {},
   "outputs": [
    {
     "data": {
      "text/plain": [
       "(tensor([[[ 1,  2],\n",
       "          [ 3,  4],\n",
       "          [ 5,  6],\n",
       "          [ 7,  8]],\n",
       " \n",
       "         [[ 9, 10],\n",
       "          [11, 12],\n",
       "          [13, 14],\n",
       "          [15, 16]]]), torch.Size([2, 4, 2]))"
      ]
     },
     "execution_count": 39,
     "metadata": {},
     "output_type": "execute_result"
    }
   ],
   "source": [
    "a.view(2, 4, -1), a.view(2, 4, -1).size ()"
   ]
  },
  {
   "cell_type": "code",
   "execution_count": 42,
   "metadata": {},
   "outputs": [
    {
     "data": {
      "text/plain": [
       "(tensor([[[ 1,  2,  3,  4],\n",
       "          [ 5,  6,  7,  8]],\n",
       " \n",
       "         [[ 9, 10, 11, 12],\n",
       "          [13, 14, 15, 16]]]), torch.Size([2, 2, 4]))"
      ]
     },
     "execution_count": 42,
     "metadata": {},
     "output_type": "execute_result"
    }
   ],
   "source": [
    "a.view(-1, 2, 4), a.view(-1, 2, 4).size()"
   ]
  },
  {
   "cell_type": "code",
   "execution_count": 40,
   "metadata": {},
   "outputs": [
    {
     "data": {
      "text/plain": [
       "(tensor([[ 1,  2,  3,  4,  5,  6,  7,  8],\n",
       "         [ 9, 10, 11, 12, 13, 14, 15, 16]]), torch.Size([2, 8]))"
      ]
     },
     "execution_count": 40,
     "metadata": {},
     "output_type": "execute_result"
    }
   ],
   "source": [
    "a.view(2, 8), a.view(2, 8).size() # output below, "
   ]
  },
  {
   "cell_type": "markdown",
   "metadata": {},
   "source": [
    "#### Back to tutorial"
   ]
  },
  {
   "cell_type": "code",
   "execution_count": 43,
   "metadata": {},
   "outputs": [
    {
     "name": "stdout",
     "output_type": "stream",
     "text": [
      "tensor([[-1.8107, -1.9912, -0.2434]]) torch.Size([1, 3])\n",
      "tensor([[[-1.8107, -1.9912, -0.2434]]]) torch.Size([1, 1, 3])\n"
     ]
    }
   ],
   "source": [
    "print(inputs[0], inputs[0].size())\n",
    "print(inputs[0].view(1, 1, -1), inputs[0].view(1, 1, -1).size())"
   ]
  },
  {
   "cell_type": "markdown",
   "metadata": {},
   "source": [
    "`inputs[0].view(1,1,-1)` adds another dim  "
   ]
  },
  {
   "cell_type": "markdown",
   "metadata": {},
   "source": [
    "## `lstm()`\n",
    "\n",
    "- **input** of shape `(seq_len, batch, input_size)`: \n",
    "      tensor containing the features of the input sequence.\n",
    "\n",
    "- **h_0** of shape `(num_layers * num_directions, batch, hidden_size)`: tensor\n",
    "      containing the initial hidden state for each element in the batch.\n",
    "      If the LSTM is bidirectional, num_directions should be 2, else it should be 1.\n",
    "- **c_0** of shape `(num_layers * num_directions, batch, hidden_size)`: tensor\n",
    "      containing the initial cell state for each element in the batch.\n",
    "\n",
    "If `(h_0, c_0)` is not provided, both **h_0** and **c_0** default to zero."
   ]
  },
  {
   "cell_type": "code",
   "execution_count": null,
   "metadata": {},
   "outputs": [],
   "source": [
    "lstm = nn.LSTM(3, 3)  # Input dim is 3, output dim is 3"
   ]
  },
  {
   "cell_type": "markdown",
   "metadata": {},
   "source": [
    "Args:\n",
    "- input_size: The number of expected features in the input `x`\n",
    "- hidden_size: The number of features in the hidden state `h`\n",
    "- num_layers: Number of recurrent layers. E.g., setting ``num_layers=2`` would mean stacking two LSTMs together to form a `stacked LSTM`, with the second LSTM taking in outputs of the first LSTM and computing the final results. Default: 1\n",
    "- bias: If ``False``, then the layer does not use bias weights `b_ih` and `b_hh`. Default: ``True``\n",
    "- batch_first: If ``True``, then the input and output tensors are provided as (batch, seq, feature). Default: ``False``\n",
    "- dropout: If non-zero, introduces a `Dropout` layer on the outputs of each LSTM layer except the last layer, with dropout probability equal to :attr:`dropout`. Default: 0\n",
    "- bidirectional: If ``True``, becomes a bidirectional LSTM. Default: ``False``"
   ]
  },
  {
   "cell_type": "markdown",
   "metadata": {},
   "source": [
    "`lstm` inputs:"
   ]
  },
  {
   "cell_type": "code",
   "execution_count": 67,
   "metadata": {},
   "outputs": [
    {
     "name": "stdout",
     "output_type": "stream",
     "text": [
      "[tensor([[-1.8107, -1.9912, -0.2434]]), tensor([[-0.5782,  0.6942, -1.0025]]), tensor([[-0.0356, -1.3917, -0.3523]]), tensor([[1.9390, 0.4224, 0.0572]]), tensor([[-2.1116,  2.1080,  0.3232]])]\n",
      "\n",
      "torch.Size([1, 3])\n",
      "\n",
      "seq_len = 1\n",
      "batch  = 1\n",
      "input_size = 3\n"
     ]
    }
   ],
   "source": [
    "print(inputs)\n",
    "print()\n",
    "print(inputs[0].size())\n",
    "print()\n",
    "\n",
    "print(f'seq_len = {inputs[0].view(1, 1, -1).size()[0]}')\n",
    "print(f'batch  = {inputs[0].view(1, 1, -1).size()[1]}')\n",
    "print(f'input_size = {inputs[0].view(1, 1, -1).size()[2]}')"
   ]
  },
  {
   "cell_type": "code",
   "execution_count": 65,
   "metadata": {},
   "outputs": [
    {
     "name": "stdout",
     "output_type": "stream",
     "text": [
      "(tensor([[[-0.8395,  0.1390, -0.0379]]]), tensor([[[-0.0193, -0.7948,  0.9273]]]))\n",
      "\n",
      "num_layers * num_directions = 1\n",
      "batch dim = 1\n",
      "hidden_size = 3\n"
     ]
    }
   ],
   "source": [
    "print(hidden)\n",
    "print()\n",
    "print(f'num_layers * num_directions = {hidden[0].size()[0]}')\n",
    "print(f'batch dim = {hidden[0].size()[1]}')\n",
    "print(f'hidden_size = {hidden[0].size()[2]}')"
   ]
  },
  {
   "cell_type": "code",
   "execution_count": 47,
   "metadata": {},
   "outputs": [
    {
     "name": "stdout",
     "output_type": "stream",
     "text": [
      "torch.Size([1, 1, 3])\n",
      "(tensor([[[-0.0870,  0.0206, -0.1474]]], grad_fn=<StackBackward>), tensor([[[-0.1651,  0.0521, -0.2960]]], grad_fn=<StackBackward>))\n"
     ]
    }
   ],
   "source": [
    "for i in inputs:\n",
    "    # Step through the sequence one element at a time.\n",
    "    # after each step, hidden contains the hidden state.\n",
    "    out, hidden = lstm(i.view(1, 1, -1), hidden)\n",
    "\n",
    "print(out.size())\n",
    "print(hidden)"
   ]
  },
  {
   "cell_type": "code",
   "execution_count": 78,
   "metadata": {},
   "outputs": [
    {
     "name": "stdout",
     "output_type": "stream",
     "text": [
      "seq_len = 5\n",
      "batch  = 1\n",
      "input_size = 3\n"
     ]
    },
    {
     "data": {
      "text/plain": [
       "torch.Size([5, 1, 3])"
      ]
     },
     "execution_count": 78,
     "metadata": {},
     "output_type": "execute_result"
    }
   ],
   "source": [
    "# alternatively, we can do the entire sequence all at once.\n",
    "# the first value returned by LSTM is all of the hidden states throughout\n",
    "# the sequence. the second is just the most recent hidden state\n",
    "# (compare the last slice of \"out\" with \"hidden\" below, they are the same)\n",
    "# The reason for this is that:\n",
    "# \"out\" will give you access to all hidden states in the sequence\n",
    "# \"hidden\" will allow you to continue the sequence and backpropagate,\n",
    "# by passing it as an argument  to the lstm at a later time\n",
    "# Add the extra 2nd dimension\n",
    "inputs = torch.cat(inputs).view(len(inputs), 1, -1)\n",
    "print(f'seq_len = {inputs.size()[0]}')\n",
    "print(f'batch  = {inputs.size()[1]}')\n",
    "print(f'input_size = {inputs.size()[2]}')\n",
    "inputs.size()"
   ]
  },
  {
   "cell_type": "code",
   "execution_count": 84,
   "metadata": {},
   "outputs": [
    {
     "name": "stdout",
     "output_type": "stream",
     "text": [
      "tensor([[[ 0.4328, -0.0734, -0.2011]],\n",
      "\n",
      "        [[ 0.2481,  0.0485, -0.0943]],\n",
      "\n",
      "        [[ 0.1556,  0.0235, -0.0594]],\n",
      "\n",
      "        [[-0.0202, -0.0036, -0.0719]],\n",
      "\n",
      "        [[-0.0756, -0.0395, -0.1422]]], grad_fn=<StackBackward>)\n",
      "torch.Size([5, 1, 3])\n",
      "\n",
      "(tensor([[[-0.0756, -0.0395, -0.1422]]], grad_fn=<StackBackward>), tensor([[[-0.1334, -0.0800, -0.2875]]], grad_fn=<StackBackward>))\n",
      "\n",
      "torch.Size([1, 1, 3])\n",
      "torch.Size([1, 1, 3])\n"
     ]
    }
   ],
   "source": [
    "hidden = (torch.randn(1, 1, 3), torch.randn(1, 1, 3))  # clean out hidden state\n",
    "out, hidden = lstm(inputs, hidden)\n",
    "print(out)\n",
    "print(out.size())\n",
    "print()\n",
    "print(hidden)\n",
    "print()\n",
    "print(hidden[0].size())\n",
    "print(hidden[1].size())"
   ]
  },
  {
   "cell_type": "markdown",
   "metadata": {},
   "source": [
    "Example: An LSTM for Part-of-Speech Tagging\n",
    "~~~~~~~~~~~~~~~~~~~~~~~~~~~~~~~~~~~~~~~~~~~\n",
    "\n",
    "In this section, we will use an LSTM to get part of speech tags. We will\n",
    "not use Viterbi or Forward-Backward or anything like that, but as a\n",
    "(challenging) exercise to the reader, think about how Viterbi could be\n",
    "used after you have seen what is going on.\n",
    "\n",
    "The model is as follows: let our input sentence be\n",
    "$w_1, \\dots, w_M$, where $w_i \\in V$, our vocab. Also, let\n",
    "$T$ be our tag set, and $y_i$ the tag of word $w_i$.\n",
    "Denote our prediction of the tag of word $w_i$ by\n",
    "$\\hat{y}_i$.\n",
    "\n",
    "This is a structure prediction, model, where our output is a sequence\n",
    "$\\hat{y}_1, \\dots, \\hat{y}_M$, where $\\hat{y}_i \\in T$.\n",
    "\n",
    "To do the prediction, pass an LSTM over the sentence. Denote the hidden\n",
    "state at timestep $i$ as $h_i$. Also, assign each tag a\n",
    "unique index (like how we had word\\_to\\_ix in the word embeddings\n",
    "section). Then our prediction rule for $\\hat{y}_i$ is\n",
    "\n",
    "\\begin{align}\\hat{y}_i = \\text{argmax}_j \\  (\\log \\text{Softmax}(Ah_i + b))_j\\end{align}\n",
    "\n",
    "That is, take the log softmax of the affine map of the hidden state,\n",
    "and the predicted tag is the tag that has the maximum value in this\n",
    "vector. Note this implies immediately that the dimensionality of the\n",
    "target space of $A$ is $|T|$.\n",
    "\n",
    "\n",
    "Prepare data:\n",
    "\n"
   ]
  },
  {
   "cell_type": "code",
   "execution_count": 106,
   "metadata": {},
   "outputs": [],
   "source": [
    "def prepare_sequence(seq, to_ix):\n",
    "    # to_idx is a dict mapping of word to index\n",
    "    idxs = [to_ix[w] for w in seq]\n",
    "    return torch.tensor(idxs, dtype=torch.long)\n",
    "\n",
    "\n",
    "training_data = [\n",
    "    (\"The dog ate the apple\".split(), [\"DET\", \"NN\", \"V\", \"DET\", \"NN\"]),\n",
    "    (\"Everybody read that book\".split(), [\"NN\", \"V\", \"DET\", \"NN\"])\n",
    "]"
   ]
  },
  {
   "cell_type": "code",
   "execution_count": 87,
   "metadata": {},
   "outputs": [
    {
     "data": {
      "text/plain": [
       "[(['The', 'dog', 'ate', 'the', 'apple'], ['DET', 'NN', 'V', 'DET', 'NN']),\n",
       " (['Everybody', 'read', 'that', 'book'], ['NN', 'V', 'DET', 'NN'])]"
      ]
     },
     "execution_count": 87,
     "metadata": {},
     "output_type": "execute_result"
    }
   ],
   "source": [
    "training_data"
   ]
  },
  {
   "cell_type": "code",
   "execution_count": 145,
   "metadata": {},
   "outputs": [
    {
     "name": "stdout",
     "output_type": "stream",
     "text": [
      "{'The': 0, 'dog': 1, 'ate': 2, 'the': 3, 'apple': 4, 'Everybody': 5, 'read': 6, 'that': 7, 'book': 8}\n",
      "{'DET': 0, 'NN': 1, 'V': 2}\n"
     ]
    }
   ],
   "source": [
    "word_to_ix = {}\n",
    "for sent, tags in training_data:\n",
    "    for word in sent:\n",
    "        if word not in word_to_ix:\n",
    "            word_to_ix[word] = len(word_to_ix)\n",
    "print(word_to_ix)\n",
    "tag_to_ix = {\"DET\": 0, \"NN\": 1, \"V\": 2}\n",
    "print(tag_to_ix)\n",
    "\n",
    "# These will usually be more like 32 or 64 dimensional.\n",
    "# We will keep them small, so we can see how the weights change as we train.\n",
    "EMBEDDING_DIM = 6\n",
    "HIDDEN_DIM = 6"
   ]
  },
  {
   "cell_type": "markdown",
   "metadata": {},
   "source": [
    "Note that EMBEDDING_DIM = HIDDEN_DIM"
   ]
  },
  {
   "cell_type": "markdown",
   "metadata": {},
   "source": [
    "Create the model:\n",
    "\n"
   ]
  },
  {
   "cell_type": "code",
   "execution_count": 170,
   "metadata": {},
   "outputs": [],
   "source": [
    "class LSTMTagger(nn.Module):\n",
    "\n",
    "    def __init__(self, embedding_dim, hidden_dim, vocab_size, tagset_size):\n",
    "        super(LSTMTagger, self).__init__()\n",
    "        self.hidden_dim = hidden_dim\n",
    "\n",
    "        self.word_embeddings = nn.Embedding(vocab_size, embedding_dim)\n",
    "        #print(self.word_embeddings)\n",
    "        # The LSTM takes word embeddings as inputs, and outputs hidden states\n",
    "        # with dimensionality hidden_dim.\n",
    "        self.lstm = nn.LSTM(embedding_dim, hidden_dim)\n",
    "\n",
    "        # The linear layer that maps from hidden state space to tag space\n",
    "        self.hidden2tag = nn.Linear(hidden_dim, tagset_size)\n",
    "\n",
    "    def forward(self, sentence):\n",
    "        #print(sentence.size())\n",
    "        embeds = self.word_embeddings(sentence)\n",
    "        lstm_out, _ = self.lstm(embeds.view(len(sentence), 1, -1))\n",
    "        tag_space = self.hidden2tag(lstm_out.view(len(sentence), -1))\n",
    "        tag_scores = F.log_softmax(tag_space, dim=1)\n",
    "        return tag_scores"
   ]
  },
  {
   "cell_type": "markdown",
   "metadata": {},
   "source": [
    "#### LSTM Inputs"
   ]
  },
  {
   "cell_type": "markdown",
   "metadata": {},
   "source": [
    "Quick look again at the training data and the converted inputs"
   ]
  },
  {
   "cell_type": "code",
   "execution_count": 101,
   "metadata": {},
   "outputs": [
    {
     "data": {
      "text/plain": [
       "[(['The', 'dog', 'ate', 'the', 'apple'], ['DET', 'NN', 'V', 'DET', 'NN']),\n",
       " (['Everybody', 'read', 'that', 'book'], ['NN', 'V', 'DET', 'NN'])]"
      ]
     },
     "execution_count": 101,
     "metadata": {},
     "output_type": "execute_result"
    }
   ],
   "source": [
    "training_data"
   ]
  },
  {
   "cell_type": "code",
   "execution_count": 108,
   "metadata": {},
   "outputs": [
    {
     "data": {
      "text/plain": [
       "(['The', 'dog', 'ate', 'the', 'apple'], tensor([0, 1, 2, 3, 4]))"
      ]
     },
     "execution_count": 108,
     "metadata": {},
     "output_type": "execute_result"
    }
   ],
   "source": [
    "inputs1 = prepare_sequence(training_data[0][0], word_to_ix)\n",
    "training_data[0][0], inputs1"
   ]
  },
  {
   "cell_type": "code",
   "execution_count": 109,
   "metadata": {},
   "outputs": [
    {
     "data": {
      "text/plain": [
       "(['Everybody', 'read', 'that', 'book'], tensor([5, 6, 7, 8]))"
      ]
     },
     "execution_count": 109,
     "metadata": {},
     "output_type": "execute_result"
    }
   ],
   "source": [
    "inputs2 = prepare_sequence(training_data[1][0], word_to_ix)\n",
    "training_data[1][0], inputs2"
   ]
  },
  {
   "cell_type": "markdown",
   "metadata": {},
   "source": [
    "What do the embeddings look like?"
   ]
  },
  {
   "cell_type": "code",
   "execution_count": 118,
   "metadata": {},
   "outputs": [
    {
     "data": {
      "text/plain": [
       "9"
      ]
     },
     "execution_count": 118,
     "metadata": {},
     "output_type": "execute_result"
    }
   ],
   "source": [
    "len(word_to_ix)"
   ]
  },
  {
   "cell_type": "code",
   "execution_count": 120,
   "metadata": {},
   "outputs": [
    {
     "name": "stdout",
     "output_type": "stream",
     "text": [
      "sentence is ['The', 'dog', 'ate', 'the', 'apple']\n",
      "tagset is ['DET', 'NN', 'V', 'DET', 'NN']\n",
      "\n"
     ]
    },
    {
     "data": {
      "text/plain": [
       "(tensor([[ 0.2381, -1.8574, -2.3299],\n",
       "         [ 0.2288, -1.1299,  0.3972],\n",
       "         [-1.3283,  0.0452,  1.1780],\n",
       "         [ 0.9890, -0.2442, -1.4545],\n",
       "         [ 0.3249, -1.7692,  0.0739]], grad_fn=<EmbeddingBackward>),\n",
       " torch.Size([5, 3]))"
      ]
     },
     "execution_count": 120,
     "metadata": {},
     "output_type": "execute_result"
    }
   ],
   "source": [
    "print(f'sentence is {training_data[0][0]}')\n",
    "print(f'tagset is {training_data[0][1]}')\n",
    "print()\n",
    "\n",
    "vocab_size=len(word_to_ix)\n",
    "tagset_size=len(tag_to_ix)\n",
    "\n",
    "\n",
    "word_embeddings = nn.Embedding(num_embeddings=vocab_size, embedding_dim=EMBEDDING_DIM)\n",
    "\n",
    "word_embeddings(inputs1), word_embeddings(inputs1).size()"
   ]
  },
  {
   "cell_type": "markdown",
   "metadata": {},
   "source": [
    "So we see that each word is mapped to a tensor of 3 floats, where each float represents the weight of a tag"
   ]
  },
  {
   "cell_type": "markdown",
   "metadata": {},
   "source": [
    "What is the input to the `lstm` function itself?"
   ]
  },
  {
   "cell_type": "code",
   "execution_count": 132,
   "metadata": {},
   "outputs": [
    {
     "name": "stdout",
     "output_type": "stream",
     "text": [
      "torch.Size([5])\n",
      "torch.Size([5, 3])\n"
     ]
    },
    {
     "data": {
      "text/plain": [
       "(tensor([[[ 0.2381, -1.8574, -2.3299]],\n",
       " \n",
       "         [[ 0.2288, -1.1299,  0.3972]],\n",
       " \n",
       "         [[-1.3283,  0.0452,  1.1780]],\n",
       " \n",
       "         [[ 0.9890, -0.2442, -1.4545]],\n",
       " \n",
       "         [[ 0.3249, -1.7692,  0.0739]]], grad_fn=<ViewBackward>),\n",
       " torch.Size([5, 1, 3]))"
      ]
     },
     "execution_count": 132,
     "metadata": {},
     "output_type": "execute_result"
    }
   ],
   "source": [
    "print(inputs1.size())\n",
    "print(word_embeddings(inputs1).size())\n",
    "word_embeddings(inputs1).view(len(inputs1), 1, -1), word_embeddings(inputs1).view(len(inputs1), 1, -1).size()"
   ]
  },
  {
   "cell_type": "markdown",
   "metadata": {},
   "source": [
    "Remember `lstm` takes inputs of shape: \n",
    "- seq_len,\n",
    "- batch,\n",
    "- input_size\n",
    "\n",
    "So here an extra dimension was added in the middle, which is the batch size. \n",
    "- 5 words in sequence, 1 batch, input embedding size = 3"
   ]
  },
  {
   "cell_type": "markdown",
   "metadata": {},
   "source": [
    "#### LSTM Outputs"
   ]
  },
  {
   "cell_type": "code",
   "execution_count": 142,
   "metadata": {},
   "outputs": [
    {
     "data": {
      "text/plain": [
       "(tensor([0, 1, 2, 3, 4]), 5)"
      ]
     },
     "execution_count": 142,
     "metadata": {},
     "output_type": "execute_result"
    }
   ],
   "source": [
    "inputs1, len(inputs1)"
   ]
  },
  {
   "cell_type": "code",
   "execution_count": 141,
   "metadata": {},
   "outputs": [
    {
     "data": {
      "text/plain": [
       "(tensor([[-0.4898,  0.1734,  0.2236]], grad_fn=<SelectBackward>),\n",
       " tensor([[-1.8068, -0.2216, -0.1605]], grad_fn=<SelectBackward>))"
      ]
     },
     "execution_count": 141,
     "metadata": {},
     "output_type": "execute_result"
    }
   ],
   "source": [
    "embeds.view(len(inputs1), 1, -1)[0], embeds.view(len(inputs1), 1, -1)[1]"
   ]
  },
  {
   "cell_type": "code",
   "execution_count": 161,
   "metadata": {},
   "outputs": [
    {
     "data": {
      "text/plain": [
       "(6, 6)"
      ]
     },
     "execution_count": 161,
     "metadata": {},
     "output_type": "execute_result"
    }
   ],
   "source": [
    "HIDDEN_DIM, EMBEDDING_DIM"
   ]
  },
  {
   "cell_type": "code",
   "execution_count": 167,
   "metadata": {},
   "outputs": [
    {
     "data": {
      "text/plain": [
       "(torch.Size([5, 1, 6]), torch.Size([5]))"
      ]
     },
     "execution_count": 167,
     "metadata": {},
     "output_type": "execute_result"
    }
   ],
   "source": [
    "embeds.view(len(inputs1), 1, -1).size(), inputs1.size()"
   ]
  },
  {
   "cell_type": "code",
   "execution_count": 385,
   "metadata": {},
   "outputs": [
    {
     "data": {
      "text/plain": [
       "(tensor([0, 1, 2, 3, 4]),\n",
       " tensor([[[ 0.3158, -0.1654, -0.0170, -0.1158, -0.1461, -0.0255]],\n",
       " \n",
       "         [[ 0.0227, -0.0561,  0.0953, -0.2123,  0.1872,  0.2304]],\n",
       " \n",
       "         [[ 0.0487, -0.0696,  0.1490, -0.1778,  0.0638,  0.2308]],\n",
       " \n",
       "         [[ 0.0413, -0.1821,  0.0544,  0.2306, -0.1145,  0.1279]],\n",
       " \n",
       "         [[ 0.2577, -0.1178,  0.0208,  0.0358, -0.2629,  0.2879]]],\n",
       "        grad_fn=<StackBackward>),\n",
       " torch.Size([5, 1, 6]),\n",
       " (tensor([[[ 0.2577, -0.1178,  0.0208,  0.0358, -0.2629,  0.2879]]],\n",
       "         grad_fn=<StackBackward>),\n",
       "  tensor([[[ 0.5504, -0.1857,  0.0402,  0.0669, -0.6002,  0.8489]]],\n",
       "         grad_fn=<StackBackward>)))"
      ]
     },
     "execution_count": 385,
     "metadata": {},
     "output_type": "execute_result"
    }
   ],
   "source": [
    "# word_embeddings = nn.Embedding(vocab_size, embedding_dim)\n",
    "# self.lstm = nn.LSTM(embedding_dim, hidden_dim)\n",
    "# embeds = self.word_embeddings(sentence)\n",
    "# lstm_out, _ = self.lstm(embeds.view(len(sentence), 1, -1))\n",
    "\n",
    "vocab_size=len(word_to_ix)\n",
    "tagset_size=len(tag_to_ix)\n",
    "word_embeddings = nn.Embedding(vocab_size, EMBEDDING_DIM)\n",
    "embeds = word_embeddings(inputs1)\n",
    "\n",
    "lstm = nn.LSTM(EMBEDDING_DIM, HIDDEN_DIM)\n",
    "\n",
    "lstm_out, _ = lstm(embeds.view(len(inputs1), 1, -1))\n",
    "inputs1, lstm_out, lstm_out.size(), _"
   ]
  },
  {
   "cell_type": "markdown",
   "metadata": {},
   "source": [
    "Output size from the lstm after passing the sentence through is (5,1,6)\n",
    "- input indexes size: (5)\n",
    "- emb_input size: (5,1,6)\n",
    "- output size: ((5,1,6)"
   ]
  },
  {
   "cell_type": "markdown",
   "metadata": {},
   "source": [
    "### Pass to linear layer"
   ]
  },
  {
   "cell_type": "code",
   "execution_count": 175,
   "metadata": {},
   "outputs": [
    {
     "data": {
      "text/plain": [
       "(tensor([[-0.8272, -1.1052, -1.4629],\n",
       "         [-0.9013, -1.0333, -1.4350],\n",
       "         [-0.9042, -1.0531, -1.4012],\n",
       "         [-0.8687, -1.0910, -1.4079],\n",
       "         [-0.8381, -1.1143, -1.4299]], grad_fn=<LogSoftmaxBackward>),\n",
       " torch.Size([5, 3]))"
      ]
     },
     "execution_count": 175,
     "metadata": {},
     "output_type": "execute_result"
    }
   ],
   "source": [
    "hidden2tag = nn.Linear(HIDDEN_DIM, tagset_size)\n",
    "tag_space = hidden2tag(lstm_out.view(len(inputs1), -1))\n",
    "tag_scores = F.log_softmax(tag_space, dim=1)\n",
    "tag_scores, tag_scores.size()"
   ]
  },
  {
   "cell_type": "markdown",
   "metadata": {},
   "source": [
    "## Train the Entire model:"
   ]
  },
  {
   "cell_type": "code",
   "execution_count": 168,
   "metadata": {},
   "outputs": [
    {
     "name": "stdout",
     "output_type": "stream",
     "text": [
      "Embedding(9, 6)\n"
     ]
    }
   ],
   "source": [
    "model = LSTMTagger(EMBEDDING_DIM, HIDDEN_DIM, vocab_size=len(word_to_ix), tagset_size=len(tag_to_ix))"
   ]
  },
  {
   "cell_type": "code",
   "execution_count": 191,
   "metadata": {},
   "outputs": [
    {
     "name": "stdout",
     "output_type": "stream",
     "text": [
      "tensor([[-1.0121e-02, -4.6538e+00, -7.5149e+00],\n",
      "        [-4.6781e+00, -4.0647e-02, -3.4889e+00],\n",
      "        [-5.1345e+00, -3.7689e+00, -2.9397e-02],\n",
      "        [-1.5419e-02, -4.4585e+00, -5.5937e+00],\n",
      "        [-6.0074e+00, -3.7719e-03, -6.6419e+00]])\n",
      "tensor([[-5.3158e-03, -5.2923e+00, -8.2111e+00],\n",
      "        [-5.5502e+00, -1.9739e-02, -4.1567e+00],\n",
      "        [-5.5924e+00, -4.5351e+00, -1.4557e-02],\n",
      "        [-8.1100e-03, -5.1436e+00, -6.1011e+00],\n",
      "        [-6.7140e+00, -1.8006e-03, -7.4437e+00]]) torch.Size([5, 3])\n"
     ]
    }
   ],
   "source": [
    "loss_function = nn.NLLLoss()\n",
    "optimizer = optim.SGD(model.parameters(), lr=0.1)\n",
    "\n",
    "# See what the scores are before training\n",
    "# Note that element i,j of the output is the score for tag j for word i.\n",
    "# Here we don't need to train, so the code is wrapped in torch.no_grad()\n",
    "with torch.no_grad():\n",
    "    inputs = prepare_sequence(training_data[0][0], word_to_ix)\n",
    "    tag_scores = model(inputs)\n",
    "    print(tag_scores)\n",
    "\n",
    "for epoch in range(300):  # again, normally you would NOT do 300 epochs, it is toy data\n",
    "    for sentence, tags in training_data:\n",
    "        # Step 1. Remember that Pytorch accumulates gradients.\n",
    "        # We need to clear them out before each instance\n",
    "        model.zero_grad()\n",
    "\n",
    "        # Step 2. Get our inputs ready for the network, that is, turn them into\n",
    "        # Tensors of word indices.\n",
    "        sentence_in = prepare_sequence(sentence, word_to_ix)\n",
    "        targets = prepare_sequence(tags, tag_to_ix)\n",
    "\n",
    "        # Step 3. Run our forward pass.\n",
    "        tag_scores = model(sentence_in)\n",
    "\n",
    "        # Step 4. Compute the loss, gradients, and update the parameters by\n",
    "        #  calling optimizer.step()\n",
    "        loss = loss_function(tag_scores, targets)\n",
    "        loss.backward()\n",
    "        optimizer.step()\n",
    "\n",
    "# See what the scores are after training\n",
    "with torch.no_grad():\n",
    "    inputs = prepare_sequence(training_data[0][0], word_to_ix)\n",
    "    tag_scores = model(inputs)\n",
    "\n",
    "    # The sentence is \"the dog ate the apple\".  i,j corresponds to score for tag j\n",
    "    # for word i. The predicted tag is the maximum scoring tag.\n",
    "    # Here, we can see the predicted sequence below is 0 1 2 0 1\n",
    "    # since 0 is index of the maximum value of row 1,\n",
    "    # 1 is the index of maximum value of row 2, etc.\n",
    "    # Which is DET NOUN VERB DET NOUN, the correct sequence!\n",
    "    print(tag_scores, tag_scores.size())"
   ]
  },
  {
   "cell_type": "code",
   "execution_count": 185,
   "metadata": {},
   "outputs": [
    {
     "data": {
      "text/plain": [
       "tensor([-0.8272, -1.1052, -1.4629], grad_fn=<SelectBackward>)"
      ]
     },
     "execution_count": 185,
     "metadata": {},
     "output_type": "execute_result"
    }
   ],
   "source": [
    "tag_scores[0]"
   ]
  },
  {
   "cell_type": "code",
   "execution_count": 190,
   "metadata": {},
   "outputs": [
    {
     "name": "stdout",
     "output_type": "stream",
     "text": [
      "tensor(0)\n",
      "tensor(0)\n",
      "tensor(0)\n",
      "tensor(0)\n",
      "tensor(0)\n"
     ]
    }
   ],
   "source": [
    "import numpy as np\n",
    "for w in tag_scores:\n",
    "    #print(w)\n",
    "    print(np.argmax(w.detach()))"
   ]
  },
  {
   "cell_type": "markdown",
   "metadata": {},
   "source": [
    "Exercise: Augmenting the LSTM part-of-speech tagger with character-level features\n",
    "~~~~~~~~~~~~~~~~~~~~~~~~~~~~~~~~~~~~~~~~~~~~~~~~~~~~~~~~~~~~~~~~~~~~~~~~~~~~~~~~~\n",
    "\n",
    "In the example above, each word had an embedding, which served as the\n",
    "inputs to our sequence model. Let's augment the word embeddings with a\n",
    "representation derived from the characters of the word. We expect that\n",
    "this should help significantly, since character-level information like\n",
    "affixes have a large bearing on part-of-speech. For example, words with\n",
    "the affix *-ly* are almost always tagged as adverbs in English.\n",
    "\n",
    "To do this, let $c_w$ be the character-level representation of\n",
    "word $w$. Let $x_w$ be the word embedding as before. Then\n",
    "the input to our sequence model is the concatenation of $x_w$ and\n",
    "$c_w$. So if $x_w$ has dimension 5, and $c_w$\n",
    "dimension 3, then our LSTM should accept an input of dimension 8.\n",
    "\n",
    "To get the character level representation, do an LSTM over the\n",
    "characters of a word, and let $c_w$ be the final hidden state of\n",
    "this LSTM. Hints:\n",
    "\n",
    "* There are going to be two LSTM's in your new model.\n",
    "  The original one that outputs POS tag scores, and the new one that\n",
    "  outputs a character-level representation of each word.\n",
    "* To do a sequence model over characters, you will have to embed characters.\n",
    "  The character embeddings will be the input to the character LSTM.\n",
    "\n",
    "\n"
   ]
  },
  {
   "cell_type": "markdown",
   "metadata": {},
   "source": [
    "# Char-LSTM\n",
    "### Steps\n",
    "1. Get character vocab\n",
    "2. Get char-embeddings (c_w)   [x_w is the word embedding]\n",
    "3. Input = concat(x_W, c_w)\n",
    "4. create char-lstm\n",
    "\n",
    "Target is still [part of speech]"
   ]
  },
  {
   "cell_type": "markdown",
   "metadata": {},
   "source": [
    "1. Char vocab"
   ]
  },
  {
   "cell_type": "code",
   "execution_count": 200,
   "metadata": {},
   "outputs": [],
   "source": [
    "def prepare_char_sequence(seq, to_ix):\n",
    "    # to_idx is a dict mapping of char to index\n",
    "    idxs = [to_ix[c] for c in seq]\n",
    "    return torch.tensor(idxs, dtype=torch.long)\n",
    "\n",
    "\n",
    "training_data = [\n",
    "    (\"The dog ate the apple\".split(), [\"DET\", \"NN\", \"V\", \"DET\", \"NN\"]),\n",
    "    (\"Everybody read that book\".split(), [\"NN\", \"V\", \"DET\", \"NN\"])\n",
    "]"
   ]
  },
  {
   "cell_type": "code",
   "execution_count": 201,
   "metadata": {},
   "outputs": [
    {
     "name": "stdout",
     "output_type": "stream",
     "text": [
      "{'T': 0, 'h': 1, 'e': 2, 'd': 3, 'o': 4, 'g': 5, 'a': 6, 't': 7, 'p': 8, 'l': 9, 'E': 10, 'v': 11, 'r': 12, 'y': 13, 'b': 14, 'k': 15}\n",
      "{'DET': 0, 'NN': 1, 'V': 2}\n"
     ]
    }
   ],
   "source": [
    "char_to_ix = {}\n",
    "for sent, tags in training_data:\n",
    "    for word in sent:\n",
    "        for letter in word:\n",
    "            if letter not in char_to_ix:\n",
    "                char_to_ix[letter] = len(char_to_ix)\n",
    "                \n",
    "print(char_to_ix)\n",
    "tag_to_ix = {\"DET\": 0, \"NN\": 1, \"V\": 2}\n",
    "print(tag_to_ix)\n",
    "\n",
    "# These will usually be more like 32 or 64 dimensional.\n",
    "# We will keep them small, so we can see how the weights change as we train.\n",
    "EMBEDDING_DIM = 6\n",
    "HIDDEN_DIM = 6"
   ]
  },
  {
   "cell_type": "code",
   "execution_count": 207,
   "metadata": {},
   "outputs": [
    {
     "data": {
      "text/plain": [
       "['The', 'dog', 'ate', 'the', 'apple']"
      ]
     },
     "execution_count": 207,
     "metadata": {},
     "output_type": "execute_result"
    }
   ],
   "source": [
    "training_data[0][0]"
   ]
  },
  {
   "cell_type": "code",
   "execution_count": 203,
   "metadata": {},
   "outputs": [
    {
     "data": {
      "text/plain": [
       "('The', tensor([0, 1, 2]))"
      ]
     },
     "execution_count": 203,
     "metadata": {},
     "output_type": "execute_result"
    }
   ],
   "source": [
    "training_data[0][0][0], prepare_char_sequence(training_data[0][0][0], char_to_ix)"
   ]
  },
  {
   "cell_type": "markdown",
   "metadata": {},
   "source": [
    "Get char representation per word, 1 word is an entire sequence here!!!"
   ]
  },
  {
   "cell_type": "code",
   "execution_count": 239,
   "metadata": {},
   "outputs": [
    {
     "data": {
      "text/plain": [
       "(tensor([0, 1, 2]), torch.Size([3]))"
      ]
     },
     "execution_count": 239,
     "metadata": {},
     "output_type": "execute_result"
    }
   ],
   "source": [
    "word1 = training_data[0][0][0]\n",
    "c_input = prepare_char_sequence(word1, char_to_ix)\n",
    "c_input, c_input.size()"
   ]
  },
  {
   "cell_type": "markdown",
   "metadata": {},
   "source": [
    "Init embedding for this sequence"
   ]
  },
  {
   "cell_type": "code",
   "execution_count": 247,
   "metadata": {},
   "outputs": [
    {
     "data": {
      "text/plain": [
       "Embedding(16, 6)"
      ]
     },
     "execution_count": 247,
     "metadata": {},
     "output_type": "execute_result"
    }
   ],
   "source": [
    "char_vocab_size = len(char_to_ix)\n",
    "char_embeddings = nn.Embedding(num_embeddings=char_vocab_size, embedding_dim=EMBEDDING_DIM)\n",
    "char_embeddings"
   ]
  },
  {
   "cell_type": "markdown",
   "metadata": {},
   "source": [
    "Get actual embedding"
   ]
  },
  {
   "cell_type": "code",
   "execution_count": 248,
   "metadata": {
    "scrolled": true
   },
   "outputs": [
    {
     "data": {
      "text/plain": [
       "(tensor([[-0.2845,  0.5521,  1.3652,  0.9553, -0.5913,  0.0407],\n",
       "         [ 1.2207, -0.4602,  1.0191,  1.0931,  0.8007,  0.7547],\n",
       "         [ 0.6940,  1.4390, -0.9423,  1.4651,  0.7460,  0.0379]],\n",
       "        grad_fn=<EmbeddingBackward>), torch.Size([3, 6]))"
      ]
     },
     "execution_count": 248,
     "metadata": {},
     "output_type": "execute_result"
    }
   ],
   "source": [
    "char_embeds = char_embeddings(c_input)\n",
    "char_embeds, char_embeds.size()"
   ]
  },
  {
   "cell_type": "markdown",
   "metadata": {},
   "source": [
    "Put seq embedding into lstm. First, input dimensions need to match lstm needs"
   ]
  },
  {
   "cell_type": "code",
   "execution_count": 255,
   "metadata": {},
   "outputs": [
    {
     "name": "stdout",
     "output_type": "stream",
     "text": [
      "seq_len = 3\n",
      "batch  = 1\n",
      "each input_size = 6\n"
     ]
    },
    {
     "data": {
      "text/plain": [
       "torch.Size([3, 1, 6])"
      ]
     },
     "execution_count": 255,
     "metadata": {},
     "output_type": "execute_result"
    }
   ],
   "source": [
    "char_embeds_view = char_embeds.view(len(c_input), 1, -1)\n",
    "print(f'seq_len = {char_embeds_view.size()[0]}')\n",
    "print(f'batch  = {char_embeds_view.size()[1]}')\n",
    "print(f'each input_size = {char_embeds_view.size()[2]}')\n",
    "char_embeds_view.size()"
   ]
  },
  {
   "cell_type": "markdown",
   "metadata": {},
   "source": [
    "And now put in lstm"
   ]
  },
  {
   "cell_type": "code",
   "execution_count": 266,
   "metadata": {},
   "outputs": [
    {
     "data": {
      "text/plain": [
       "(tensor([[[-0.0493, -0.0139, -0.1389, -0.0993,  0.1474,  0.0917]],\n",
       " \n",
       "         [[ 0.0563,  0.0796, -0.1367, -0.0643,  0.0982,  0.1793]],\n",
       " \n",
       "         [[ 0.1091,  0.0565, -0.0305, -0.1263,  0.0511,  0.1545]]],\n",
       "        grad_fn=<StackBackward>), torch.Size([3, 1, 6]))"
      ]
     },
     "execution_count": 266,
     "metadata": {},
     "output_type": "execute_result"
    }
   ],
   "source": [
    "char_lstm = nn.LSTM(EMBEDDING_DIM, HIDDEN_DIM)\n",
    "char_lstm_out, _ = char_lstm(char_embeds.view(len(c_input), 1, -1))\n",
    "char_lstm_out, char_lstm_out.size()"
   ]
  },
  {
   "cell_type": "markdown",
   "metadata": {},
   "source": [
    "And now concat to that word's embedding"
   ]
  },
  {
   "cell_type": "code",
   "execution_count": 267,
   "metadata": {},
   "outputs": [
    {
     "name": "stdout",
     "output_type": "stream",
     "text": [
      "Input sentence: tensor([0, 1, 2, 3, 4])\n"
     ]
    },
    {
     "data": {
      "text/plain": [
       "(tensor([[[ 0.1641,  0.0171,  0.0625, -0.1705, -0.0794,  0.1250]],\n",
       " \n",
       "         [[ 0.0121,  0.0100,  0.0601, -0.0949, -0.1124,  0.1637]],\n",
       " \n",
       "         [[ 0.0457,  0.0562,  0.0252,  0.0169, -0.0844,  0.0319]],\n",
       " \n",
       "         [[ 0.3130,  0.1223,  0.1611, -0.2087, -0.1743,  0.0638]],\n",
       " \n",
       "         [[-0.0072, -0.0025,  0.0291, -0.0332, -0.0922,  0.1330]]],\n",
       "        grad_fn=<StackBackward>), torch.Size([5, 1, 6]))"
      ]
     },
     "execution_count": 267,
     "metadata": {},
     "output_type": "execute_result"
    }
   ],
   "source": [
    "print(f'Input sentence: {inputs1}')\n",
    "vocab_size=len(word_to_ix)\n",
    "tagset_size=len(tag_to_ix)\n",
    "word_embeddings = nn.Embedding(vocab_size, EMBEDDING_DIM)\n",
    "embeds = word_embeddings(inputs1)\n",
    "lstm = nn.LSTM(EMBEDDING_DIM, HIDDEN_DIM)\n",
    "lstm_out, _ = lstm(embeds.view(len(inputs1), 1, -1))\n",
    "lstm_out, lstm_out.size()"
   ]
  },
  {
   "cell_type": "code",
   "execution_count": 273,
   "metadata": {},
   "outputs": [
    {
     "name": "stdout",
     "output_type": "stream",
     "text": [
      "tensor([[ 0.1641,  0.0171,  0.0625, -0.1705, -0.0794,  0.1250]],\n",
      "       grad_fn=<SelectBackward>)\n",
      "\n",
      "tensor([[[-0.0493, -0.0139, -0.1389, -0.0993,  0.1474,  0.0917]],\n",
      "\n",
      "        [[ 0.0563,  0.0796, -0.1367, -0.0643,  0.0982,  0.1793]],\n",
      "\n",
      "        [[ 0.1091,  0.0565, -0.0305, -0.1263,  0.0511,  0.1545]]],\n",
      "       grad_fn=<StackBackward>)\n",
      "\n",
      "word embedding size is: torch.Size([1, 6])\n",
      "char embedding size for that seq (word) is: torch.Size([3, 1, 6])\n"
     ]
    }
   ],
   "source": [
    "print(lstm_out[0])\n",
    "print()\n",
    "print(char_lstm_out)\n",
    "print()\n",
    "print(f'word embedding size is: {lstm_out[0].size()}')\n",
    "print(f'char embedding size for that seq (word) is: {char_lstm_out.size()}')"
   ]
  },
  {
   "cell_type": "markdown",
   "metadata": {},
   "source": [
    "Pop an extra dim in the word output embedding and we're able to concatenate!"
   ]
  },
  {
   "cell_type": "code",
   "execution_count": 288,
   "metadata": {},
   "outputs": [
    {
     "data": {
      "text/plain": [
       "(tensor([[[ 0.1641,  0.0171,  0.0625, -0.1705, -0.0794,  0.1250]],\n",
       " \n",
       "         [[-0.0493, -0.0139, -0.1389, -0.0993,  0.1474,  0.0917]],\n",
       " \n",
       "         [[ 0.0563,  0.0796, -0.1367, -0.0643,  0.0982,  0.1793]],\n",
       " \n",
       "         [[ 0.1091,  0.0565, -0.0305, -0.1263,  0.0511,  0.1545]]],\n",
       "        grad_fn=<CatBackward>), torch.Size([4, 1, 6]))"
      ]
     },
     "execution_count": 288,
     "metadata": {},
     "output_type": "execute_result"
    }
   ],
   "source": [
    "fin_out = torch.cat((lstm_out[0].view(1,1,6), char_lstm_out), dim=0)\n",
    "fin_out, fin_out.size()"
   ]
  },
  {
   "cell_type": "code",
   "execution_count": 290,
   "metadata": {},
   "outputs": [
    {
     "data": {
      "text/plain": [
       "(tensor([[[ 0.1641,  0.0171,  0.0625, -0.1705, -0.0794,  0.1250]],\n",
       " \n",
       "         [[ 0.0121,  0.0100,  0.0601, -0.0949, -0.1124,  0.1637]],\n",
       " \n",
       "         [[ 0.0457,  0.0562,  0.0252,  0.0169, -0.0844,  0.0319]],\n",
       " \n",
       "         [[ 0.3130,  0.1223,  0.1611, -0.2087, -0.1743,  0.0638]],\n",
       " \n",
       "         [[-0.0072, -0.0025,  0.0291, -0.0332, -0.0922,  0.1330]],\n",
       " \n",
       "         [[-0.0493, -0.0139, -0.1389, -0.0993,  0.1474,  0.0917]],\n",
       " \n",
       "         [[ 0.0563,  0.0796, -0.1367, -0.0643,  0.0982,  0.1793]],\n",
       " \n",
       "         [[ 0.1091,  0.0565, -0.0305, -0.1263,  0.0511,  0.1545]]],\n",
       "        grad_fn=<CatBackward>), torch.Size([8, 1, 6]))"
      ]
     },
     "execution_count": 290,
     "metadata": {},
     "output_type": "execute_result"
    }
   ],
   "source": [
    "fin_out = torch.cat((lstm_out, char_lstm_out), dim=0)\n",
    "fin_out, fin_out.size()"
   ]
  },
  {
   "cell_type": "code",
   "execution_count": 502,
   "metadata": {},
   "outputs": [],
   "source": [
    "class CharLSTMTagger(nn.Module):\n",
    "    def __init__(self, embedding_dim, hidden_dim, vocab_size, char_vocab_size, tagset_size):\n",
    "        super(CharLSTMTagger, self).__init__()\n",
    "        self.hidden_dim = hidden_dim\n",
    "        self.word_embeddings = nn.Embedding(vocab_size, embedding_dim)\n",
    "        self.char_embeddings = nn.Embedding(char_vocab_size, embedding_dim)\n",
    "        \n",
    "        self.char_lstm = nn.LSTM(embedding_dim, hidden_dim)\n",
    "        self.lstm = nn.LSTM(embedding_dim*2, hidden_dim*2)\n",
    "        self.hidden2tag = nn.Linear(hidden_dim*2, tagset_size)\n",
    "        \n",
    "    def forward(self, sentence, sentence_ix):\n",
    "        embeds = self.word_embeddings(sentence_ix)\n",
    "        \n",
    "        for i,word in enumerate(sentence):\n",
    "            char_ix = prepare_char_sequence(word, char_to_ix)\n",
    "            char_embeds=self.char_embeddings(char_ix)\n",
    "            char_lstm_out, (h_n, c_n) = self.char_lstm(char_embeds.view(len(word),1,-1))\n",
    "            \n",
    "            # Now the encoded word has the word embedding and a generated char embedding\n",
    "            # TODO: Should I pass the hidden state or the cell state? I think cell state\n",
    "            encoded_word = torch.cat((embeds[i].view(1,1,-1), c_n), dim=2)\n",
    "            #print(encoded_word.size())\n",
    "            \n",
    "            # Add the encoded word to the final embeddings for the last lstm\n",
    "            if i == 0: fin_embeds = encoded_word\n",
    "            else: fin_embeds = torch.cat((fin_embeds, encoded_word))\n",
    "                \n",
    "        #print(f'final encoded embeds size is: {fin_embeds.size()}')\n",
    "        lstm_out, (h_n, c_n) = self.lstm(fin_embeds)\n",
    "        \n",
    "        #print(f'final output size is: {lstm_out.size()}')\n",
    "        \n",
    "        # Send the lstm outputs through\n",
    "        #print(f'linear input is of size: {lstm_out.view(len(sentence), -1).size()}')\n",
    "        tag_space = self.hidden2tag(lstm_out.view(len(sentence), -1))\n",
    "        tag_scores = F.log_softmax(tag_space, dim=1)\n",
    "        \n",
    "        return tag_scores  "
   ]
  },
  {
   "cell_type": "code",
   "execution_count": 497,
   "metadata": {},
   "outputs": [],
   "source": [
    "model = CharLSTMTagger(EMBEDDING_DIM, HIDDEN_DIM, len(word_to_ix), len(char_to_ix), len(tag_to_ix))"
   ]
  },
  {
   "cell_type": "code",
   "execution_count": 501,
   "metadata": {},
   "outputs": [],
   "source": [
    "# for sentence, tags in training_data:\n",
    "#     # Step 1. Remember that Pytorch accumulates gradients.\n",
    "#     # We need to clear them out before each instance\n",
    "#     model.zero_grad()\n",
    "\n",
    "#     # Step 2. Get our inputs ready for the network, that is, turn them into\n",
    "#     # Tensors of word indices.\n",
    "#     sentence_ix = prepare_sequence(sentence, word_to_ix)\n",
    "#     targets = prepare_sequence(tags, tag_to_ix)\n",
    "\n",
    "#     # Step 3. Run our forward pass.\n",
    "#     out = model(sentence, sentence_ix)\n",
    "#     print(out, out.size())\n",
    "#     break"
   ]
  },
  {
   "cell_type": "code",
   "execution_count": 499,
   "metadata": {},
   "outputs": [
    {
     "name": "stdout",
     "output_type": "stream",
     "text": [
      "tensor([[-1.0467, -1.2343, -1.0276],\n",
      "        [-1.0468, -1.2271, -1.0333],\n",
      "        [-1.0245, -1.2663, -1.0240],\n",
      "        [-1.0492, -1.2778, -0.9912],\n",
      "        [-1.0566, -1.2747, -0.9866]])\n",
      "tensor([[-6.7249, -0.0219, -3.8870],\n",
      "        [-4.4208, -3.8466, -0.0339],\n",
      "        [-0.0141, -5.0470, -4.8858],\n",
      "        [-5.4596, -0.0092, -5.3204]]) torch.Size([4, 3])\n"
     ]
    }
   ],
   "source": [
    "loss_function = nn.NLLLoss()\n",
    "optimizer = optim.SGD(model.parameters(), lr=0.1)\n",
    "\n",
    "# See what the scores are before training\n",
    "# Note that element i,j of the output is the score for tag j for word i.\n",
    "# Here we don't need to train, so the code is wrapped in torch.no_grad()\n",
    "with torch.no_grad():\n",
    "    inputs = prepare_sequence(training_data[0][0], word_to_ix)\n",
    "    tag_scores = model(training_data[0][0], sentence_ix)\n",
    "    print(tag_scores)\n",
    "\n",
    "for epoch in range(300):  # again, normally you would NOT do 300 epochs, it is toy data\n",
    "    for sentence, tags in training_data:\n",
    "        # Step 1. Remember that Pytorch accumulates gradients.\n",
    "        # We need to clear them out before each instance\n",
    "        model.zero_grad()\n",
    "\n",
    "        # Step 2. Get our inputs ready for the network, that is, turn them into\n",
    "        # Tensors of word indices.\n",
    "#         sentence_in = prepare_sequence(sentence, word_to_ix)\n",
    "#         targets = prepare_sequence(tags, tag_to_ix)\n",
    "\n",
    "#         # Step 3. Run our forward pass.\n",
    "#         tag_scores = model(sentence_in)\n",
    "        sentence_ix = prepare_sequence(sentence, word_to_ix)\n",
    "        targets = prepare_sequence(tags, tag_to_ix)\n",
    "\n",
    "        # Step 3. Run our forward pass.\n",
    "        tag_scores = model(sentence, sentence_ix)\n",
    "        \n",
    "        # Step 4. Compute the loss, gradients, and update the parameters by\n",
    "        #  calling optimizer.step()\n",
    "        loss = loss_function(tag_scores, targets)\n",
    "        loss.backward()\n",
    "        optimizer.step()\n",
    "\n",
    "# See what the scores are after training\n",
    "with torch.no_grad():\n",
    "    inputs = prepare_sequence(training_data[0][0], word_to_ix)\n",
    "    tag_scores = model(sentence, sentence_ix)\n",
    "\n",
    "    # The sentence is \"the dog ate the apple\".  i,j corresponds to score for tag j\n",
    "    # for word i. The predicted tag is the maximum scoring tag.\n",
    "    # Here, we can see the predicted sequence below is 0 1 2 0 1\n",
    "    # since 0 is index of the maximum value of row 1,\n",
    "    # 1 is the index of maximum value of row 2, etc.\n",
    "    # Which is DET NOUN VERB DET NOUN, the correct sequence!\n",
    "    print(tag_scores, tag_scores.size())"
   ]
  },
  {
   "cell_type": "code",
   "execution_count": 495,
   "metadata": {},
   "outputs": [
    {
     "name": "stdout",
     "output_type": "stream",
     "text": [
      "['Everybody', 'read', 'that', 'book']\n",
      "NN\n",
      "V\n",
      "DET\n",
      "NN\n"
     ]
    }
   ],
   "source": [
    "import numpy as np\n",
    "print(sentence)\n",
    "\n",
    "ix_to_tag = {v: k for k, v in tag_to_ix.items()}\n",
    "for w in tag_scores:\n",
    "    #print(w)\n",
    "    print(ix_to_tag[np.argmax(w.detach()).item()])"
   ]
  }
 ],
 "metadata": {
  "kernelspec": {
   "display_name": "Python 3",
   "language": "python",
   "name": "python3"
  },
  "language_info": {
   "codemirror_mode": {
    "name": "ipython",
    "version": 3
   },
   "file_extension": ".py",
   "mimetype": "text/x-python",
   "name": "python",
   "nbconvert_exporter": "python",
   "pygments_lexer": "ipython3",
   "version": "3.7.5"
  }
 },
 "nbformat": 4,
 "nbformat_minor": 1
}
